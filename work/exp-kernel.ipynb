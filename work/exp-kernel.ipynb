{
 "cells": [
  {
   "cell_type": "code",
   "execution_count": 1,
   "metadata": {},
   "outputs": [],
   "source": [
    "import torch\n",
    "import numpy as np\n",
    "import matplotlib.pyplot as plt\n",
    "import scipy"
   ]
  },
  {
   "cell_type": "code",
   "execution_count": 2,
   "metadata": {},
   "outputs": [],
   "source": [
    "from scipy.optimize import minimize"
   ]
  },
  {
   "cell_type": "code",
   "execution_count": null,
   "metadata": {},
   "outputs": [],
   "source": []
  },
  {
   "cell_type": "markdown",
   "metadata": {},
   "source": [
    "## Q.\n",
    "- what $H_U$\n",
    "- what f"
   ]
  },
  {
   "cell_type": "code",
   "execution_count": 7,
   "metadata": {},
   "outputs": [
    {
     "data": {
      "text/plain": [
       "(4.5397868702434395e-05, 0.9999546021312976)"
      ]
     },
     "execution_count": 7,
     "metadata": {},
     "output_type": "execute_result"
    }
   ],
   "source": [
    "def sigmoid(x):\n",
    "    return 1/(1+np.exp(-x))\n",
    "sigmoid(-10),sigmoid(10)"
   ]
  },
  {
   "cell_type": "code",
   "execution_count": 8,
   "metadata": {},
   "outputs": [],
   "source": [
    "def u(x, params):\n",
    "    return x* params[0] + x**2 * params[1] #一旦これで定義した\n",
    "\n",
    "bias = 0"
   ]
  },
  {
   "cell_type": "code",
   "execution_count": 17,
   "metadata": {},
   "outputs": [],
   "source": [
    "def sigma(x, params, bias):\n",
    "    return sigmoid(u(x, params) - bias)"
   ]
  },
  {
   "cell_type": "code",
   "execution_count": 18,
   "metadata": {},
   "outputs": [
    {
     "data": {
      "text/plain": [
       "0.21219322365975513"
      ]
     },
     "execution_count": 18,
     "metadata": {},
     "output_type": "execute_result"
    }
   ],
   "source": [
    "def E_Pf(params, bias, approx_num = data_size):\n",
    "    norm = np.random.normal(size = data_size)\n",
    "    numerator = 0\n",
    "    denominator = 0\n",
    "    for i in range(approx_num):\n",
    "        z = norm[i]\n",
    "        numerator += np.exp(-z**2/2)/np.sqrt(2*np.pi) / z * sigma(z, params, bias)\n",
    "        denominator += np.exp(-z**2/2)/np.sqrt(2*np.pi) / z\n",
    "    return numerator/denominator\n",
    "\n",
    "E_Pf([1,1], 1)"
   ]
  },
  {
   "cell_type": "markdown",
   "metadata": {},
   "source": [
    "# 実験１\n",
    "### 汚染モデル\n",
    "$$ Q = (1-\\epsilon )N(0,1) +\\epsilon N(5,1) $$\n"
   ]
  },
  {
   "cell_type": "code",
   "execution_count": 13,
   "metadata": {},
   "outputs": [
    {
     "data": {
      "text/plain": [
       "(array([  11.,  265., 2375., 4277., 1905.,  213.,  314.,  493.,  133.,\n",
       "          14.]),\n",
       " array([-4.43602839, -3.13921863, -1.84240888, -0.54559913,  0.75121063,\n",
       "         2.04802038,  3.34483013,  4.64163989,  5.93844964,  7.2352594 ,\n",
       "         8.53206915]),\n",
       " <BarContainer object of 10 artists>)"
      ]
     },
     "execution_count": 13,
     "metadata": {},
     "output_type": "execute_result"
    },
    {
     "data": {
      "image/png": "[encoded data removed]",
      "text/plain": [
       "<Figure size 640x480 with 1 Axes>"
      ]
     },
     "metadata": {},
     "output_type": "display_data"
    }
   ],
   "source": [
    "data_size = 10000\n",
    "data_dim = 1\n",
    "epsillon = 0.1\n",
    "target_dist = np.random.normal(loc = 0, scale = 1, size = int(data_size*(1-epsillon)))\n",
    "contaminated_dist = np.random.normal(loc = 5, scale=1, size = int(data_size*epsillon))\n",
    "data = np.concatenate([target_dist, contaminated_dist])\n",
    "data = data.astype(float)\n",
    "plt.hist(data)"
   ]
  },
  {
   "cell_type": "markdown",
   "metadata": {},
   "source": [
    "# Pseudo Code"
   ]
  }
 ],
 "metadata": {
  "kernelspec": {
   "display_name": "Python 3.10.6 ('base')",
   "language": "python",
   "name": "python3"
  },
  "language_info": {
   "codemirror_mode": {
    "name": "ipython",
    "version": 3
   },
   "file_extension": ".py",
   "mimetype": "text/x-python",
   "name": "python",
   "nbconvert_exporter": "python",
   "pygments_lexer": "ipython3",
   "version": "3.10.6"
  },
  "orig_nbformat": 4,
  "vscode": {
   "interpreter": {
    "hash": "d4d1e4263499bec80672ea0156c357c1ee493ec2b1c70f0acce89fc37c4a6abe"
   }
  }
 },
 "nbformat": 4,
 "nbformat_minor": 2
}
