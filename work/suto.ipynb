{
 "cells": [
  {
   "cell_type": "code",
   "execution_count": 1,
   "metadata": {},
   "outputs": [],
   "source": [
    "import numpy as np"
   ]
  },
  {
   "cell_type": "code",
   "execution_count": 26,
   "metadata": {},
   "outputs": [],
   "source": [
    "n = 300\n",
    "m = 3*n\n",
    "eps = 0.1\n",
    "par_mu = 0\n",
    "par_sd = np.sqrt(1)\n",
    "out_mu = 5\n",
    "out_sd = np.sqrt(1)\n",
    "\n",
    "true_alpha = [par_mu, par_sd]\n",
    "\n",
    "exper_iter = 1 #デバッグ後変える\n",
    "mm_iter = 500\n",
    "L = 1\n",
    "learn_par = 1\n",
    "dicay_par = 0.5\n",
    "\n",
    "def sigmoid(x):\n",
    "    return 1/(np.exp(-x) + 1)\n",
    "\n",
    "\n",
    "def deriv_sigmoid(x):\n",
    "    return sigmoid(x)*(1-sigmoid(x))\n",
    "\n",
    "\n",
    "def g_up(t, s):\n",
    "    sigmoid(s) + deriv_sigmoid(s)*(t-s) + (t-s)^2/20\n",
    "\n",
    "def g_lo(t, s):\n",
    "    sigmoid(s) + deriv_sigmoid(s)*(t-s) - (t-s)^2/20\n"
   ]
  },
  {
   "cell_type": "code",
   "execution_count": 25,
   "metadata": {},
   "outputs": [
    {
     "name": "stdout",
     "output_type": "stream",
     "text": [
      "1/1\n"
     ]
    }
   ],
   "source": [
    "res = [0 for i in range(exper_iter)]\n",
    "for i in range(exper_iter):\n",
    "    print(\"%d/%d\" %(i+1, exper_iter))\n",
    "    data = np.random.normal(loc = par_mu, scale = par_sd, size = int(n*(1-eps)))\n",
    "    contamination = np.random.normal(loc = par_mu, scale = par_sd, size = (n - int(n*(1-eps))))\n",
    "    data = np.concatenate([data, contamination])\n",
    "    np.random.shuffle(data)\n",
    "    alpha = (np.mean(data), np.std(data)**2)\n",
    "    for j in range(mm_iter):\n",
    "        "
   ]
  },
  {
   "cell_type": "code",
   "execution_count": null,
   "metadata": {},
   "outputs": [],
   "source": []
  }
 ],
 "metadata": {
  "kernelspec": {
   "display_name": "Python 3.10.6 ('base')",
   "language": "python",
   "name": "python3"
  },
  "language_info": {
   "codemirror_mode": {
    "name": "ipython",
    "version": 3
   },
   "file_extension": ".py",
   "mimetype": "text/x-python",
   "name": "python",
   "nbconvert_exporter": "python",
   "pygments_lexer": "ipython3",
   "version": "3.10.6"
  },
  "orig_nbformat": 4,
  "vscode": {
   "interpreter": {
    "hash": "d4d1e4263499bec80672ea0156c357c1ee493ec2b1c70f0acce89fc37c4a6abe"
   }
  }
 },
 "nbformat": 4,
 "nbformat_minor": 2
}
