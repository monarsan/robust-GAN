{
 "cells": [
  {
   "cell_type": "code",
   "execution_count": 1,
   "metadata": {},
   "outputs": [],
   "source": [
    "import numpy as np\n",
    "from scipy.optimize import minimize\n",
    "import matplotlib.pyplot as plt\n",
    "import warnings\n",
    "warnings.filterwarnings('ignore')\n",
    "from tqdm import tqdm"
   ]
  },
  {
   "cell_type": "code",
   "execution_count": 5,
   "metadata": {},
   "outputs": [
    {
     "data": {
      "text/plain": [
       "array([1, 1, 1, 1, 1, 1, 1, 1, 1, 1])"
      ]
     },
     "execution_count": 5,
     "metadata": {},
     "output_type": "execute_result"
    }
   ],
   "source": [
    "np.full(10, 1)"
   ]
  },
  {
   "cell_type": "code",
   "execution_count": 21,
   "metadata": {},
   "outputs": [],
   "source": [
    "n = 300\n",
    "m = 3*n\n",
    "eps = 0.1\n",
    "data_dim = 10\n",
    "mu = 0\n",
    "mu_out = 5\n",
    "par_mu = np.full(data_dim, mu)\n",
    "par_sd = np.eye(data_dim)\n",
    "out_mu = np.full(data_dim, mu_out)\n",
    "out_sd = np.eye(data_dim)\n",
    "par_reg1 = 0.1\n",
    "par_reg2 = 0.001\n",
    "true_alpha = [par_mu, par_sd]\n",
    "\n",
    "exper_iter = 1 #デバッグ後変える\n",
    "optim_iter = 500\n",
    "L = 100\n",
    "learn_par = 1\n",
    "dicay_par = 0.5\n",
    "\n",
    "def sigmoid(x):\n",
    "    return 1/(np.exp(-x) + 1)\n",
    "\n",
    "def deriv_sigmoid(x):\n",
    "    return sigmoid(x)*(1-sigmoid(x))\n",
    "\n",
    "def g_up(t, s):\n",
    "    return sigmoid(s) + deriv_sigmoid(s)*(t-s) + (t-s)**2/20\n",
    "\n",
    "def g_lo(t, s):\n",
    "    return sigmoid(s) + deriv_sigmoid(s)*(t-s) - (t-s)**2/20"
   ]
  },
  {
   "cell_type": "code",
   "execution_count": 22,
   "metadata": {},
   "outputs": [],
   "source": [
    "data = np.random.multivariate_normal(mean= par_mu, cov = par_sd, size = int(n*(1-eps)))\n",
    "contamination = np.random.multivariate_normal(mean = out_mu, cov = out_sd, size = (n - int(n*(1-eps))))\n",
    "data = np.concatenate([data, contamination])"
   ]
  },
  {
   "cell_type": "code",
   "execution_count": null,
   "metadata": {},
   "outputs": [],
   "source": [
    "res = [0 for i in range(exper_iter)]\n",
    "for i in range(exper_iter):\n",
    "    print(\"%d/%d\" %(i+1, exper_iter))\n",
    "    data = np.random.multivariate_normal(loc = par_mu, scale = par_sd, size = int(n*(1-eps)))\n",
    "    contamination = np.random.multivariate_normal(loc = out_mu, scale = out_sd, size = (n - int(n*(1-eps))))\n",
    "    data = np.concatenate([data, contamination])\n",
    "    np.random.shuffle(data)\n",
    "    alpha_hist = []\n",
    "    alpha = [np.mean(data, axis=0), np.cov(data, rowvar=0)]\n",
    "    for j in tqdm(range(1, optim_iter+1)):\n",
    "        z = np.random.normal(mean=alpha[0], cov=alpha[1], size = m)\n",
    "\n",
    "        def major_func(par, past_par):\n",
    "            new_beta = par[0:2*data_dim+1]; new_b = par[2*data_dim+1]; beta = past_par[0:2*data_dim+1]; b = past_par[2*data_dim+1]\n",
    "            A = np.mean(g_lo(np.dot(np.stack([z, z**2], axis=1).reshape(m, 2*data_dim),new_beta) - new_b, np.dot(np.stack([z, z**2].reshape(m, 2*data_dim), axis=1),beta) - b))\n",
    "            B = np.mean(g_lo(np.dot(np.stack([data, data**2], axis=1).reshape(n, 2*data_dim),new_beta) - new_b, np.dot(np.stack([data, data**2], axis=1).reshape(n, 2*data_dim),beta) - b))\n",
    "            reg = par_reg1*np.sum(np.sqrt(new_beta**2))\n",
    "            return -(A-B) + reg\n",
    "\n",
    "        l = 0; par = np.random.normal(scale = 0.1, size = 2*data_dim + 1)\n",
    "        while(l<L):\n",
    "            op = minimize(major_func, x0 = np.zeros(2*data_dim +1), args = par)\n",
    "            par = op.x\n",
    "            l+=1\n",
    "        # ここまで多次元\n",
    "        alpha_m = alpha[0]; alpha_v = alpha[1]\n",
    "        mgrad = np.stack([(z-alpha_m)/alpha_v, ((z-alpha_m)**2-alpha_v)/(2*alpha_v)], axis = 1)\n",
    "        sig_ = sigmoid(np.dot(np.stack([z, z**2], axis=1),par[0:2])- par[2])[:,np.newaxis]\n",
    "\n",
    "        tmp_alpha = alpha*(1-learn_par*par_reg2) - learn_par/j**dicay_par * np.mean(mgrad*sig_, axis = 0)\n",
    "        discount = 0.5; cnt = 1\n",
    "        while tmp_alpha[1] < 0:\n",
    "            tmp_alpha = alpha - learn_par/j**dicay_par * discount**cnt * np.mean(mgrad*sig_, axis = 0)\n",
    "            cnt +=1\n",
    "        \n",
    "        alpha = tmp_alpha\n",
    "        alpha_hist.append(alpha)\n",
    "    res[i] = alpha_hist\n",
    "\n"
   ]
  }
 ],
 "metadata": {
  "kernelspec": {
   "display_name": "Python 3.10.6 ('base')",
   "language": "python",
   "name": "python3"
  },
  "language_info": {
   "codemirror_mode": {
    "name": "ipython",
    "version": 3
   },
   "file_extension": ".py",
   "mimetype": "text/x-python",
   "name": "python",
   "nbconvert_exporter": "python",
   "pygments_lexer": "ipython3",
   "version": "3.10.6"
  },
  "orig_nbformat": 4,
  "vscode": {
   "interpreter": {
    "hash": "d4d1e4263499bec80672ea0156c357c1ee493ec2b1c70f0acce89fc37c4a6abe"
   }
  }
 },
 "nbformat": 4,
 "nbformat_minor": 2
}
