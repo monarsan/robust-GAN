{
  "cells": [
    {
      "cell_type": "code",
      "execution_count": 1,
      "metadata": {
        "id": "7BZZ0N0saYSz"
      },
      "outputs": [],
      "source": [
        "import numpy as np\n",
        "import scipy\n",
        "from scipy.optimize import minimize\n",
        "import matplotlib.pyplot as plt\n",
        "import warnings\n",
        "warnings.filterwarnings('ignore')\n",
        "from tqdm import tqdm"
      ]
    },
    {
      "cell_type": "code",
      "execution_count": 2,
      "metadata": {
        "id": "qLUzQOMaaf9h"
      },
      "outputs": [],
      "source": [
        "n = 1000\n",
        "m = 3*n\n",
        "eps = 0.1\n",
        "data_dim = 2\n",
        "mu = 5\n",
        "mu_out = 0\n",
        "par_mu = np.full(data_dim, mu)\n",
        "par_sd = np.eye(data_dim)\n",
        "out_mu = np.full(data_dim, mu_out)\n",
        "out_sd = np.eye(data_dim)\n",
        "par_reg1 = 0.0005\n",
        "par_reg2 = 0.0005\n",
        "exper_iter = 10\n",
        "optim_iter = 500\n",
        "L = 1\n",
        "learn_par = 1\n",
        "dicay_par = 0.5\n",
        "\n",
        "def sigmoid(x):\n",
        "    return 1/(np.exp(-x) + 1)\n",
        "\n",
        "def deriv_sigmoid(x):\n",
        "    return sigmoid(x)*(1-sigmoid(x))\n",
        "\n",
        "def g_up(t, s):\n",
        "    return sigmoid(s) + deriv_sigmoid(s)*(t-s) + (t-s)**2/20\n",
        "\n",
        "def g_lo(t, s):\n",
        "    return sigmoid(s) + deriv_sigmoid(s)*(t-s) - (t-s)**2/20"
      ]
    },
    {
      "cell_type": "code",
      "execution_count": null,
      "metadata": {
        "colab": {
          "base_uri": "https://localhost:8080/"
        },
        "id": "hXHIjsjWah36",
        "outputId": "537deb5a-f36f-4818-ac20-13ba92550a2b"
      },
      "outputs": [],
      "source": [
        "# 分散を単位行列で固定\n",
        "res = [0 for i in range(exper_iter)]\n",
        "res_par = [0 for i in range(exper_iter)]\n",
        "for i in range(exper_iter):\n",
        "    print(\"%d/%d\" %(i+1, exper_iter))\n",
        "    data = np.random.multivariate_normal(mean = par_mu, cov = par_sd, size = int(n*(1-eps)))\n",
        "    contamination = np.random.multivariate_normal(mean = out_mu, cov = out_sd, size = (n - int(n*(1-eps))))\n",
        "    data = np.concatenate([data, contamination])\n",
        "    np.random.shuffle(data)\n",
        "    alpha_hist = []\n",
        "    par_hist = []\n",
        "    alpha = [np.median(data, axis=0), np.eye(data_dim)]\n",
        "    par = np.random.normal(loc = 10, scale = 0.1, size = 2*data_dim + 1)\n",
        "    for j in range(1, optim_iter+1):\n",
        "        z = np.random.multivariate_normal(mean=alpha[0], cov=alpha[1], size = m)\n",
        "\n",
        "        def major_func(par, past_par):\n",
        "            new_beta = par[0:2*data_dim]; new_b = par[2*data_dim]; beta = past_par[0:2*data_dim]; b = past_par[2*data_dim]\n",
        "            A = np.mean(g_lo(np.dot(np.stack([z, z**2], axis=1).reshape(m, 2*data_dim),new_beta) - new_b, np.dot(np.stack([z, z**2], axis=1).reshape(m, 2*data_dim),beta) - b))\n",
        "            B = np.mean(g_up(np.dot(np.stack([data, data**2], axis=1).reshape(n, 2*data_dim),new_beta) - new_b, np.dot(np.stack([data, data**2], axis=1).reshape(n, 2*data_dim),beta) - b))\n",
        "            reg = np.linalg.norm(new_beta, ord=2)*par_reg1\n",
        "            return -(A-B -reg)\n",
        "        l = 0\n",
        "        while(l<L):\n",
        "            op = minimize(major_func, x0 = par, args = par)            \n",
        "            par = op.x\n",
        "            l+=1\n",
        "            \n",
        "        alpha_m = alpha[0]; alpha_v = alpha[1]\n",
        "        mgrad = (z-alpha_m)\n",
        "        sig_ = sigmoid(np.dot(np.stack([z, z**2], axis=1).reshape(m, 2*data_dim),par[0:2*data_dim ])- par[2*data_dim])[:,np.newaxis]\n",
        "        tmp_alpha = alpha_m - learn_par/j**dicay_par * np.mean(mgrad*sig_, axis = 0)\n",
        "        alpha[0] = tmp_alpha\n",
        "        alpha_hist.append(alpha[0])\n",
        "        par_hist.append(par)\n",
        "    res[i] = alpha_hist\n",
        "    res_par[i] = par_hist\n",
        "\n"
      ]
    },
    {
      "cell_type": "code",
      "execution_count": 2,
      "metadata": {},
      "outputs": [],
      "source": [
        "def plot():\n",
        "    mu = np.array(res)\n",
        "    nppar = np.array(res_par)\n",
        "    num_graph_row = 3\n",
        "    plt.figure(figsize=(4*num_graph_row,4*exper_iter))\n",
        "    half = int(optim_iter/2)\n",
        "    mean=[]\n",
        "    for i in (range(exper_iter)):\n",
        "\n",
        "        #loss of u norm\n",
        "        plt.subplot(exper_iter, num_graph_row, num_graph_row*i +4)\n",
        "        plt.title(\"l2 norm of u\")\n",
        "\n",
        "        loss = np.linalg.norm(nppar[i,:, :-1], ord = 2, axis=1)\n",
        "        plt.plot(range(len(loss)), loss)   \n",
        "\n",
        "        #bias\n",
        "        plt.subplot(exper_iter, num_graph_row, num_graph_row*i +5)\n",
        "        plt.title(\"bias\")\n",
        "        plt.plot(range(len(nppar[i,:,-1])), nppar[i,:, -1])       \n",
        "\n",
        "        # loss of mu\n",
        "        plt.subplot(exper_iter, num_graph_row, num_graph_row*i +6)\n",
        "        plt.title(\"l2 loss\")\n",
        "        loss = np.linalg.norm(mu[i]-par_mu, ord = 2, axis=1)\n",
        "        mean.append(loss[-1])\n",
        "        plt.plot(range(len(loss)), loss)\n",
        "    print(\"average mean is : %.4f\"%np.mean(mean))\n",
        "    print(\"average std is  : %.4f\"%np.std(mean))"
      ]
    },
    {
      "cell_type": "code",
      "execution_count": null,
      "metadata": {},
      "outputs": [],
      "source": [
        "plot()"
      ]
    }
  ],
  "metadata": {
    "colab": {
      "provenance": []
    },
    "kernelspec": {
      "display_name": "Python 3.6.9 ('robust-gan': venv)",
      "language": "python",
      "name": "python3"
    },
    "language_info": {
      "codemirror_mode": {
        "name": "ipython",
        "version": 3
      },
      "file_extension": ".py",
      "mimetype": "text/x-python",
      "name": "python",
      "nbconvert_exporter": "python",
      "pygments_lexer": "ipython3",
      "version": "3.6.9"
    },
    "vscode": {
      "interpreter": {
        "hash": "25b610a314c15d57d8d44cb9cb18c6b8a5db1348d1826795060d7377d2e8687d"
      }
    }
  },
  "nbformat": 4,
  "nbformat_minor": 0
}
