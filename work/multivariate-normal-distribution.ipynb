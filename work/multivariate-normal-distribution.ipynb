{
 "cells": [
  {
   "cell_type": "code",
   "execution_count": 5,
   "metadata": {},
   "outputs": [],
   "source": [
    "import numpy as np\n",
    "from scipy.optimize import minimize\n",
    "import matplotlib.pyplot as plt\n",
    "import warnings\n",
    "warnings.filterwarnings('ignore')\n",
    "from tqdm import tqdm"
   ]
  },
  {
   "cell_type": "code",
   "execution_count": 49,
   "metadata": {},
   "outputs": [],
   "source": [
    "n = 1000\n",
    "m = 3*n\n",
    "eps = 0.1\n",
    "data_dim = 10\n",
    "mu = 0\n",
    "mu_out = 5\n",
    "par_mu = np.full(data_dim, mu)\n",
    "par_sd = np.eye(data_dim)\n",
    "out_mu = np.full(data_dim, mu_out)\n",
    "out_sd = np.eye(data_dim)\n",
    "par_reg1 = 0.1\n",
    "par_reg2 = 0.001\n",
    "true_alpha = [par_mu, par_sd]\n",
    "\n",
    "exper_iter = 5\n",
    "optim_iter = 10\n",
    "L = 200\n",
    "learn_par = 1\n",
    "dicay_par = 0.5\n",
    "\n",
    "def sigmoid(x):\n",
    "    return 1/(np.exp(-x) + 1)\n",
    "\n",
    "def deriv_sigmoid(x):\n",
    "    return sigmoid(x)*(1-sigmoid(x))\n",
    "\n",
    "def g_up(t, s):\n",
    "    return sigmoid(s) + deriv_sigmoid(s)*(t-s) + (t-s)**2/20\n",
    "\n",
    "def g_lo(t, s):\n",
    "    return sigmoid(s) + deriv_sigmoid(s)*(t-s) - (t-s)**2/20\n",
    "\n",
    "# 2次元正規分布plt用\n",
    "def mean2scatter(res):\n",
    "    npres = np.array(res)[0]\n",
    "    for i in range(npres.shape[0]):\n",
    "        if i< len(res[0])/2:\n",
    "            x = npres[i,0]; y = npres[i,1]\n",
    "            plt.scatter(x,y, color = \"m\")\n",
    "        else:\n",
    "            x = npres[i,0]; y = npres[i,1]\n",
    "            plt.scatter(x,y, color = \"c\")\n",
    "    plt.scatter(npres[0][0], npres[0][1], color = \"r\")\n",
    "    plt.scatter(npres[-1][0], npres[-1][1], color = \"b\")\n",
    "\n",
    "\n",
    "# l2ノルムをプロット\n",
    "def l2_norm_plot(res, i=0):\n",
    "    npres = np.array(res)\n",
    "    x = range(len(npres[i]))\n",
    "    y = npres[i] - par_mu\n",
    "    y =  np.linalg.norm(y, ord = 2, axis = 1)\n",
    "    plt.scatter(x,y)"
   ]
  },
  {
   "cell_type": "code",
   "execution_count": null,
   "metadata": {},
   "outputs": [],
   "source": [
    "# 分散を単位行列で固定\n",
    "res = [0 for i in range(exper_iter)]\n",
    "for i in range(exper_iter):\n",
    "    eps += 0.1/exper_iter\n",
    "    print(\"%d/%d\" %(i+1, exper_iter))\n",
    "    data = np.random.multivariate_normal(mean = par_mu, cov = par_sd, size = int(n*(1-eps)))\n",
    "    contamination = np.random.multivariate_normal(mean = out_mu, cov = out_sd, size = (n - int(n*(1-eps))))\n",
    "    data = np.concatenate([data, contamination])\n",
    "    np.random.shuffle(data)\n",
    "    alpha_hist = []\n",
    "    alpha = [np.median(data, axis=0), np.eye(data_dim)]\n",
    "    for j in tqdm(range(1, optim_iter+1)):\n",
    "        z = np.random.multivariate_normal(mean=alpha[0], cov=alpha[1], size = m)\n",
    "\n",
    "        def major_func(par, past_par):\n",
    "            new_beta = par[0:2*data_dim]; new_b = par[2*data_dim]; beta = past_par[0:2*data_dim]; b = past_par[2*data_dim]\n",
    "            A = np.mean(g_lo(np.dot(np.stack([z, z**2], axis=1).reshape(m, 2*data_dim),new_beta) - new_b, np.dot(np.stack([z, z**2], axis=1).reshape(m, 2*data_dim),beta) - b))\n",
    "            B = np.mean(g_up(np.dot(np.stack([data, data**2], axis=1).reshape(n, 2*data_dim),new_beta) - new_b, np.dot(np.stack([data, data**2], axis=1).reshape(n, 2*data_dim),beta) - b))\n",
    "            return -(A-B)\n",
    "\n",
    "        l = 0; par = np.random.normal(scale = 0.1, size = 2*data_dim + 1)\n",
    "        while(l<L):\n",
    "            op = minimize(major_func, x0 = np.zeros(2*data_dim +1), args = par)\n",
    "            par = op.x\n",
    "            l+=1\n",
    "            \n",
    "        alpha_m = alpha[0]; alpha_v = alpha[1]\n",
    "        mgrad = (z-alpha_m)\n",
    "        sig_ = sigmoid(np.dot(np.stack([z, z**2], axis=1).reshape(m, 2*data_dim),par[0:2*data_dim ])- par[2*data_dim])[:,np.newaxis]\n",
    "        tmp_alpha = alpha[0] - learn_par/j**dicay_par * np.mean(mgrad*sig_, axis = 0)\n",
    "        alpha[0] = tmp_alpha\n",
    "        alpha_hist.append(alpha[0])\n",
    "    res[i] = alpha_hist\n"
   ]
  },
  {
   "cell_type": "code",
   "execution_count": 51,
   "metadata": {},
   "outputs": [
    {
     "data": {
      "image/png": "[encoded data removed]",
      "text/plain": [
       "<Figure size 432x288 with 1 Axes>"
      ]
     },
     "metadata": {
      "needs_background": "light"
     },
     "output_type": "display_data"
    }
   ],
   "source": [
    "#n=1000, dim = 10, optim = 10, mm=200, eps = 0.12,0.14, ..,0.2\n",
    "for i in range(exper_iter):\n",
    "    l2_norm_plot(res, i)"
   ]
  },
  {
   "cell_type": "code",
   "execution_count": 40,
   "metadata": {},
   "outputs": [
    {
     "data": {
      "image/png": "[encoded data removed]",
      "text/plain": [
       "<Figure size 432x288 with 1 Axes>"
      ]
     },
     "metadata": {
      "needs_background": "light"
     },
     "output_type": "display_data"
    }
   ],
   "source": [
    "#n = 1000, dim = 10, optim=50, mm=200\n",
    "l2_norm_plot(res)"
   ]
  },
  {
   "cell_type": "code",
   "execution_count": 37,
   "metadata": {},
   "outputs": [
    {
     "data": {
      "image/png": "[encoded data removed]",
      "text/plain": [
       "<Figure size 432x288 with 1 Axes>"
      ]
     },
     "metadata": {
      "needs_background": "light"
     },
     "output_type": "display_data"
    }
   ],
   "source": [
    "#n = 1000, dim = 10, optim=100, mm=100 -> mmの回数を増やしたほうが良い性能が出る？ optim減らしてもよさそう？\n",
    "l2_norm_plot(res)"
   ]
  },
  {
   "cell_type": "code",
   "execution_count": 32,
   "metadata": {},
   "outputs": [
    {
     "data": {
      "image/png": "[encoded data removed]",
      "text/plain": [
       "<Figure size 432x288 with 1 Axes>"
      ]
     },
     "metadata": {
      "needs_background": "light"
     },
     "output_type": "display_data"
    }
   ],
   "source": [
    "#n = 1000, dim = 10, optim=200, mm=50\n",
    "l2_norm_plot(res)"
   ]
  }
 ],
 "metadata": {
  "kernelspec": {
   "display_name": "Python 3.7.11 ('ML')",
   "language": "python",
   "name": "python3"
  },
  "language_info": {
   "codemirror_mode": {
    "name": "ipython",
    "version": 3
   },
   "file_extension": ".py",
   "mimetype": "text/x-python",
   "name": "python",
   "nbconvert_exporter": "python",
   "pygments_lexer": "ipython3",
   "version": "3.7.11"
  },
  "orig_nbformat": 4,
  "vscode": {
   "interpreter": {
    "hash": "2fca5f37e83fc5f37d3dec53220ffea049a96cf7a1ca3fe07d036078ac41a841"
   }
  }
 },
 "nbformat": 4,
 "nbformat_minor": 2
}
