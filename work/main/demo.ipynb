{
 "cells": [
  {
   "cell_type": "code",
   "execution_count": 1,
   "metadata": {},
   "outputs": [],
   "source": [
    "import numpy as np\n",
    "import matplotlib.pyplot as plt\n",
    "from gan import gan as GAN"
   ]
  },
  {
   "attachments": {},
   "cell_type": "markdown",
   "metadata": {},
   "source": [
    "# Estimate Mean"
   ]
  },
  {
   "cell_type": "code",
   "execution_count": null,
   "metadata": {},
   "outputs": [],
   "source": [
    "gan = GAN(data_dim = 10, eps= 0.1)\n",
    "gan.dist_init(setting= 'mu', true_mean = 5, out_mean = 0)\n",
    "gan.data_init(data_size = 1000, mc_size= 3)\n",
    "gan.model_init()\n",
    "gan.optimizer_init(lr_d = 0.27, lr_g = 0.017, decay_par = 0.015)\n",
    "gan.fit(optim_iter= 100)\n",
    "\n",
    "#plot result\n",
    "plt.plot(gan.l2_loss)"
   ]
  },
  {
   "attachments": {},
   "cell_type": "markdown",
   "metadata": {},
   "source": [
    "# Estimate Covariance Matrix"
   ]
  },
  {
   "cell_type": "code",
   "execution_count": null,
   "metadata": {},
   "outputs": [],
   "source": [
    "gan = GAN(data_dim = 10, eps= 0.1)\n",
    "gan.dist_init(setting= 'sigma', true_mean = 0, out_mean = 5)\n",
    "gan.data_init(data_size = 1000, mc_size= 3)\n",
    "gan.model_init()\n",
    "gan.optimizer_init(lr_d = 0.14, lr_g = 0.09, decay_par = 0.12)\n",
    "gan.fit(optim_iter= 100)\n",
    "\n",
    "#plot result\n",
    "plt.plot(gan.l2_loss)"
   ]
  }
 ],
 "metadata": {
  "kernelspec": {
   "display_name": "robust-gan",
   "language": "python",
   "name": "python3"
  },
  "language_info": {
   "codemirror_mode": {
    "name": "ipython",
    "version": 3
   },
   "file_extension": ".py",
   "mimetype": "text/x-python",
   "name": "python",
   "nbconvert_exporter": "python",
   "pygments_lexer": "ipython3",
   "version": "3.7.13 (default, Oct 18 2022, 18:57:03) \n[GCC 11.2.0]"
  },
  "orig_nbformat": 4,
  "vscode": {
   "interpreter": {
    "hash": "d5de26e601dca7c93534c1ab604efb4d0df301631e17447bc8d4a954146051f4"
   }
  }
 },
 "nbformat": 4,
 "nbformat_minor": 2
}
