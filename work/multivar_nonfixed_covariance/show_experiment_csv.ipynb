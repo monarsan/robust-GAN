{
 "cells": [
  {
   "cell_type": "code",
   "execution_count": 5,
   "metadata": {},
   "outputs": [
    {
     "data": {
      "text/html": [
       "<div>\n",
       "<style scoped>\n",
       "    .dataframe tbody tr th:only-of-type {\n",
       "        vertical-align: middle;\n",
       "    }\n",
       "\n",
       "    .dataframe tbody tr th {\n",
       "        vertical-align: top;\n",
       "    }\n",
       "\n",
       "    .dataframe thead th {\n",
       "        text-align: right;\n",
       "    }\n",
       "</style>\n",
       "<table border=\"1\" class=\"dataframe\">\n",
       "  <thead>\n",
       "    <tr style=\"text-align: right;\">\n",
       "      <th></th>\n",
       "      <th>experiment_id</th>\n",
       "      <th>loss_mean</th>\n",
       "      <th>loss_cov</th>\n",
       "      <th>sample_size</th>\n",
       "      <th>contamination_rate</th>\n",
       "      <th>data_dim</th>\n",
       "      <th>mu</th>\n",
       "      <th>mu_out</th>\n",
       "      <th>par_reg1</th>\n",
       "      <th>learn_par</th>\n",
       "      <th>dicay_par</th>\n",
       "      <th>exper_iter</th>\n",
       "      <th>optim_iter</th>\n",
       "      <th>mm_iter</th>\n",
       "      <th>init_loc_of_u</th>\n",
       "      <th>loss_std</th>\n",
       "      <th>date</th>\n",
       "      <th>time</th>\n",
       "    </tr>\n",
       "  </thead>\n",
       "  <tbody>\n",
       "    <tr>\n",
       "      <th>0</th>\n",
       "      <td>10</td>\n",
       "      <td>0.0380</td>\n",
       "      <td>21.697</td>\n",
       "      <td>1000</td>\n",
       "      <td>0.1</td>\n",
       "      <td>2</td>\n",
       "      <td>0.0</td>\n",
       "      <td>5.0</td>\n",
       "      <td>0.0005</td>\n",
       "      <td>0.05</td>\n",
       "      <td>0.5</td>\n",
       "      <td>10</td>\n",
       "      <td>500</td>\n",
       "      <td>1</td>\n",
       "      <td>0.0</td>\n",
       "      <td>0.0263</td>\n",
       "      <td>2022-11-10</td>\n",
       "      <td>21:13</td>\n",
       "    </tr>\n",
       "    <tr>\n",
       "      <th>1</th>\n",
       "      <td>11</td>\n",
       "      <td>0.1313</td>\n",
       "      <td>176.950</td>\n",
       "      <td>1000</td>\n",
       "      <td>0.1</td>\n",
       "      <td>2</td>\n",
       "      <td>5.0</td>\n",
       "      <td>0.0</td>\n",
       "      <td>0.0005</td>\n",
       "      <td>0.05</td>\n",
       "      <td>0.5</td>\n",
       "      <td>10</td>\n",
       "      <td>500</td>\n",
       "      <td>1</td>\n",
       "      <td>0.0</td>\n",
       "      <td>0.0924</td>\n",
       "      <td>2022-11-10</td>\n",
       "      <td>21:23</td>\n",
       "    </tr>\n",
       "  </tbody>\n",
       "</table>\n",
       "</div>"
      ],
      "text/plain": [
       "   experiment_id   loss_mean   loss_cov   sample_size   contamination_rate  \\\n",
       "0             10      0.0380     21.697          1000                  0.1   \n",
       "1             11      0.1313    176.950          1000                  0.1   \n",
       "\n",
       "    data_dim   mu   mu_out   par_reg1   learn_par   dicay_par   exper_iter  \\\n",
       "0          2  0.0      5.0     0.0005        0.05         0.5           10   \n",
       "1          2  5.0      0.0     0.0005        0.05         0.5           10   \n",
       "\n",
       "    optim_iter   mm_iter   init_loc_of_u   loss_std         date    time  \n",
       "0          500         1             0.0     0.0263  2022-11-10    21:13  \n",
       "1          500         1             0.0     0.0924  2022-11-10    21:23  "
      ]
     },
     "execution_count": 5,
     "metadata": {},
     "output_type": "execute_result"
    }
   ],
   "source": [
    "import pandas as pd\n",
    "pd.read_csv(\"./exper_result.csv\")\n"
   ]
  },
  {
   "cell_type": "code",
   "execution_count": null,
   "metadata": {},
   "outputs": [],
   "source": []
  }
 ],
 "metadata": {
  "kernelspec": {
   "display_name": "Python 3.7.13 ('robust-gan')",
   "language": "python",
   "name": "python3"
  },
  "language_info": {
   "codemirror_mode": {
    "name": "ipython",
    "version": 3
   },
   "file_extension": ".py",
   "mimetype": "text/x-python",
   "name": "python",
   "nbconvert_exporter": "python",
   "pygments_lexer": "ipython3",
   "version": "3.7.13"
  },
  "orig_nbformat": 4,
  "vscode": {
   "interpreter": {
    "hash": "d5de26e601dca7c93534c1ab604efb4d0df301631e17447bc8d4a954146051f4"
   }
  }
 },
 "nbformat": 4,
 "nbformat_minor": 2
}
