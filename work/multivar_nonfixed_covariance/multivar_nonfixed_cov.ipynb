{
 "cells": [
  {
   "cell_type": "code",
   "execution_count": 9,
   "metadata": {},
   "outputs": [],
   "source": [
    "import numpy as np\n",
    "import numpy.linalg as LA\n",
    "import scipy\n",
    "from scipy.optimize import minimize\n",
    "import matplotlib.pyplot as plt\n",
    "import warnings\n",
    "warnings.filterwarnings('ignore')\n",
    "from tqdm import tqdm"
   ]
  },
  {
   "cell_type": "code",
   "execution_count": 10,
   "metadata": {},
   "outputs": [],
   "source": [
    "# nearPD(A) calc projection of A to pd\n",
    "import numpy as np\n",
    "\n",
    "def _getAplus(A):\n",
    "    eigval, eigvec = np.linalg.eig(A)\n",
    "    Q = np.matrix(eigvec)\n",
    "    xdiag = np.matrix(np.diag(np.maximum(eigval, 0)))\n",
    "    return Q*xdiag*Q.T\n",
    "\n",
    "def _getPs(A, W=None):\n",
    "    W05 = np.matrix(W**.5)\n",
    "    return  W05.I * _getAplus(W05 * A * W05) * W05.I\n",
    "\n",
    "def _getPu(A, W=None):\n",
    "    Aret = np.array(A.copy())\n",
    "    Aret[W > 0] = np.array(W)[W > 0]\n",
    "    return np.matrix(Aret)\n",
    "\n",
    "def nearPD(A, nit=10):\n",
    "    n = A.shape[0]\n",
    "    W = np.identity(n) \n",
    "# W is the matrix used for the norm (assumed to be identity matrix here)\n",
    "# the algorithm should work for any diagonal W\n",
    "    deltaS = 0\n",
    "    Yk = A.copy()\n",
    "    for k in range(nit):\n",
    "        Rk = Yk - deltaS\n",
    "        Xk = _getPs(Rk, W=W)\n",
    "        deltaS = Xk - Rk\n",
    "        Yk = _getPu(Xk, W=W)\n",
    "    return np.array(Yk)"
   ]
  },
  {
   "cell_type": "code",
   "execution_count": 11,
   "metadata": {},
   "outputs": [],
   "source": [
    "n = 1000\n",
    "m = 3*n\n",
    "eps = 0.1\n",
    "data_dim = 2\n",
    "mu = 0\n",
    "mu_out = 6\n",
    "par_mu = np.full(data_dim, mu)\n",
    "# par_sd = np.identity(data_dim)\n",
    "out_mu = np.full(data_dim, mu_out)\n",
    "\n",
    "par_reg1=0.005\n",
    "exper_iter = 10\n",
    "optim_iter = 400\n",
    "L = 1\n",
    "learn_par = 0.0005\n",
    "dicay_par = 0.5\n",
    "\n",
    "def sigmoid(x):\n",
    "    return 1/(np.exp(-x) + 1)\n",
    "\n",
    "def deriv_sigmoid(x):\n",
    "    return sigmoid(x)*(1-sigmoid(x))\n",
    "\n",
    "def g_up(t, s):\n",
    "    return sigmoid(s) + deriv_sigmoid(s)*(t-s) + (t-s)**2/20\n",
    "\n",
    "def g_lo(t, s):\n",
    "    return sigmoid(s) + deriv_sigmoid(s)*(t-s) - (t-s)**2/20\n",
    "\n",
    "\n",
    "\n",
    "def create_out_cov(data_dim):\n",
    "    return_cov = np.zeros([data_dim, data_dim])\n",
    "    for i in range(data_dim):\n",
    "        for j in range(i+1):\n",
    "            z = np.random.uniform(0.4, 0.8)\n",
    "            gamma = np.random.binomial(n = 1,p=0.1)\n",
    "            return_cov[i][j] = z*gamma\n",
    "            return_cov[j][i] = z*gamma\n",
    "    return_cov = return_cov +(np.abs(np.linalg.eig(return_cov)[0]) +0.05)*np.identity(data_dim)\n",
    "    return return_cov"
   ]
  },
  {
   "cell_type": "code",
   "execution_count": 12,
   "metadata": {},
   "outputs": [
    {
     "name": "stdout",
     "output_type": "stream",
     "text": [
      "1/10\n"
     ]
    },
    {
     "ename": "ModuleNotFoundError",
     "evalue": "No module named 'numpy.dual'",
     "output_type": "error",
     "traceback": [
      "\u001b[0;31m---------------------------------------------------------------------------\u001b[0m",
      "\u001b[0;31mModuleNotFoundError\u001b[0m                       Traceback (most recent call last)",
      "\u001b[0;32m<ipython-input-12-70f6747fc1e1>\u001b[0m in \u001b[0;36m<module>\u001b[0;34m\u001b[0m\n\u001b[1;32m      7\u001b[0m \u001b[0;32mfor\u001b[0m \u001b[0mi\u001b[0m \u001b[0;32min\u001b[0m \u001b[0mrange\u001b[0m\u001b[0;34m(\u001b[0m\u001b[0mexper_iter\u001b[0m\u001b[0;34m)\u001b[0m\u001b[0;34m:\u001b[0m\u001b[0;34m\u001b[0m\u001b[0;34m\u001b[0m\u001b[0m\n\u001b[1;32m      8\u001b[0m     \u001b[0mprint\u001b[0m\u001b[0;34m(\u001b[0m\u001b[0;34m\"%d/%d\"\u001b[0m \u001b[0;34m%\u001b[0m\u001b[0;34m(\u001b[0m\u001b[0mi\u001b[0m\u001b[0;34m+\u001b[0m\u001b[0;36m1\u001b[0m\u001b[0;34m,\u001b[0m \u001b[0mexper_iter\u001b[0m\u001b[0;34m)\u001b[0m\u001b[0;34m)\u001b[0m\u001b[0;34m\u001b[0m\u001b[0;34m\u001b[0m\u001b[0m\n\u001b[0;32m----> 9\u001b[0;31m     \u001b[0mdata\u001b[0m \u001b[0;34m=\u001b[0m \u001b[0mnp\u001b[0m\u001b[0;34m.\u001b[0m\u001b[0mrandom\u001b[0m\u001b[0;34m.\u001b[0m\u001b[0mmultivariate_normal\u001b[0m\u001b[0;34m(\u001b[0m\u001b[0mmean\u001b[0m \u001b[0;34m=\u001b[0m \u001b[0mpar_mu\u001b[0m\u001b[0;34m,\u001b[0m \u001b[0mcov\u001b[0m \u001b[0;34m=\u001b[0m \u001b[0mpar_cov\u001b[0m\u001b[0;34m,\u001b[0m \u001b[0msize\u001b[0m \u001b[0;34m=\u001b[0m \u001b[0mint\u001b[0m\u001b[0;34m(\u001b[0m\u001b[0mn\u001b[0m\u001b[0;34m*\u001b[0m\u001b[0;34m(\u001b[0m\u001b[0;36m1\u001b[0m\u001b[0;34m-\u001b[0m\u001b[0meps\u001b[0m\u001b[0;34m)\u001b[0m\u001b[0;34m)\u001b[0m\u001b[0;34m)\u001b[0m\u001b[0;34m\u001b[0m\u001b[0;34m\u001b[0m\u001b[0m\n\u001b[0m\u001b[1;32m     10\u001b[0m     \u001b[0;31m# Gaoの論文の設定\u001b[0m\u001b[0;34m\u001b[0m\u001b[0;34m\u001b[0m\u001b[0;34m\u001b[0m\u001b[0m\n\u001b[1;32m     11\u001b[0m     \u001b[0mcontamination\u001b[0m \u001b[0;34m=\u001b[0m \u001b[0mnp\u001b[0m\u001b[0;34m.\u001b[0m\u001b[0mrandom\u001b[0m\u001b[0;34m.\u001b[0m\u001b[0mmultivariate_normal\u001b[0m\u001b[0;34m(\u001b[0m\u001b[0mmean\u001b[0m \u001b[0;34m=\u001b[0m \u001b[0mout_mu\u001b[0m\u001b[0;34m,\u001b[0m \u001b[0mcov\u001b[0m \u001b[0;34m=\u001b[0m \u001b[0mout_cov\u001b[0m\u001b[0;34m,\u001b[0m \u001b[0msize\u001b[0m \u001b[0;34m=\u001b[0m \u001b[0;34m(\u001b[0m\u001b[0mn\u001b[0m \u001b[0;34m-\u001b[0m \u001b[0mint\u001b[0m\u001b[0;34m(\u001b[0m\u001b[0mn\u001b[0m\u001b[0;34m*\u001b[0m\u001b[0;34m(\u001b[0m\u001b[0;36m1\u001b[0m\u001b[0;34m-\u001b[0m\u001b[0meps\u001b[0m\u001b[0;34m)\u001b[0m\u001b[0;34m)\u001b[0m\u001b[0;34m)\u001b[0m\u001b[0;34m)\u001b[0m\u001b[0;34m\u001b[0m\u001b[0;34m\u001b[0m\u001b[0m\n",
      "\u001b[0;32mmtrand.pyx\u001b[0m in \u001b[0;36mnumpy.random.mtrand.RandomState.multivariate_normal\u001b[0;34m()\u001b[0m\n",
      "\u001b[0;31mModuleNotFoundError\u001b[0m: No module named 'numpy.dual'"
     ]
    }
   ],
   "source": [
    "# 分散を固定しない\n",
    "par_cov = np.eye(data_dim)\n",
    "out_cov = np.eye(data_dim)\n",
    "true_alpha = [par_mu, par_cov]\n",
    "res_mu = [0 for i in range(exper_iter)]\n",
    "res_cov = [0 for i in range(exper_iter)]\n",
    "for i in range(exper_iter):\n",
    "    print(\"%d/%d\" %(i+1, exper_iter))\n",
    "    data = np.random.multivariate_normal(mean = par_mu, cov = par_cov, size = int(n*(1-eps)))\n",
    "    # Gaoの論文の設定\n",
    "    contamination = np.random.multivariate_normal(mean = out_mu, cov = out_cov, size = (n - int(n*(1-eps))))\n",
    "    data = np.concatenate([data, contamination])\n",
    "    np.random.shuffle(data)\n",
    "    alpha_hist = []\n",
    "    cov_hist = []\n",
    "    # 平均は次元ごとにロバスト、分散はロバストでない\n",
    "    alpha = [np.median(data, axis=0), np.cov(data, rowvar = False)]\n",
    "    par = np.random.normal(scale = 0.1, size = 2*data_dim + 1)\n",
    "    for j in tqdm(range(1, optim_iter+1)):\n",
    "        z = np.random.multivariate_normal(mean=alpha[0], cov=alpha[1], size = m)\n",
    "        def major_func(par, past_par):\n",
    "            new_beta = par[0:2*data_dim]; new_b = par[2*data_dim]; beta = past_par[0:2*data_dim]; b = past_par[2*data_dim]\n",
    "            A = np.mean(g_lo(np.dot(np.stack([z, z**2], axis=1).reshape(m, 2*data_dim),new_beta) - new_b, np.dot(np.stack([z, z**2], axis=1).reshape(m, 2*data_dim),beta) - b))\n",
    "            B = np.mean(g_up(np.dot(np.stack([data, data**2], axis=1).reshape(n, 2*data_dim),new_beta) - new_b, np.dot(np.stack([data, data**2], axis=1).reshape(n, 2*data_dim),beta) - b))\n",
    "            reg = np.linalg.norm(new_beta, ord=2)*par_reg1\n",
    "            return -(A-B -reg)\n",
    "        \n",
    "        l = 0\n",
    "        while(l<L):\n",
    "            op = minimize(major_func, x0 = np.zeros(2*data_dim +1), args = par)\n",
    "            par = op.x\n",
    "            l+=1\n",
    "        \n",
    "        alpha_m = alpha[0]; alpha_v = alpha[1]\n",
    "        v_inv = np.linalg.inv(alpha_v)\n",
    "        mgrad = (v_inv*(z-alpha_m)[:, np.newaxis, :]).sum(axis=2)\n",
    "        sigma_grad = (alpha_v - (z- alpha_m)[:,:,np.newaxis] * (z-alpha_m)[:, np.newaxis, :])/2\n",
    "        sig_ = sigmoid(np.dot(np.stack([z, z**2], axis=1).reshape(m, 2*data_dim),par[0:2*data_dim ])- par[2*data_dim])[:,np.newaxis]\n",
    "        tmp_alpha_m = alpha[0] - learn_par/j**dicay_par * np.mean(mgrad*sig_, axis = 0)\n",
    "        tmp_alpha_v = v_inv - learn_par/j**dicay_par * np.mean(sigma_grad*sig_[:,:,np.newaxis], axis = 0)\n",
    "        # hegman 2000\n",
    "        #projection_alpha_v = nearPD(tmp_alpha_v)\n",
    "        \n",
    "        # # SVD\n",
    "        # eig_val, eig_vec = np.linalg.eig(tmp_alpha_v)\n",
    "        # np.max(np.concatenate([eig_val[:, np.newaxis], np.full(len(eig_val), 0.001)[:, np.newaxis]], axis = 1), axis = 1)\n",
    "        # tmp_alpha_v = \n",
    "\n",
    "        alpha[0], alpha[1] = tmp_alpha_m, (LA.inv(tmp_alpha_v))\n",
    "        alpha_hist.append(alpha[0])\n",
    "        cov_hist.append(alpha[1])\n",
    "    res_mu[i] = alpha_hist\n",
    "    res_cov[i] =  cov_hist\n",
    "\n"
   ]
  },
  {
   "cell_type": "code",
   "execution_count": 7,
   "metadata": {},
   "outputs": [],
   "source": [
    "def calc_op_norm(cov):\n",
    "    return np.max(np.linalg.eig(cov)[0])\n",
    "\n",
    "    \n",
    "def calc_f_norm(cov):\n",
    "    return np.sum(cov**2)\n",
    "\n",
    "# for 1 exper_iter\n",
    "def result_plot(res):\n",
    "    mean = np.array(res[0][0])\n",
    "    for i in range(optim_iter):\n",
    "        l2_norm_mu = np.linalg.norm(mean[i], ord = 2)\n",
    "        plt.scatter(i, l2_norm_mu)\n",
    "    plt.subplots()\n",
    "    cov = np.array(res[0][1])\n",
    "    for i in range(optim_iter):\n",
    "        op_norm = np.abs(calc_op_norm(cov[i] - np.eye(data_dim)))\n",
    "        plt.scatter(i, op_norm)\n",
    "    plt.subplots()\n",
    "    for i in range(optim_iter):\n",
    "        f_norm = np.abs(calc_f_norm(cov[i] - np.eye(data_dim)))\n",
    "        plt.scatter(i, f_norm)"
   ]
  },
  {
   "cell_type": "markdown",
   "metadata": {},
   "source": [
    "# 分散　正定値にしない\n",
    "mu\n",
    "- mean: 0.55025\n",
    "- std : 0.25188\n",
    "\n",
    "op_norm\n",
    "- mean:4.90425\n",
    "- std :1.48638\n",
    "\n",
    "# Higham (2000)\n",
    "mu\n",
    "- mean:0.54750\n",
    "- std :0.30382\n",
    "\n",
    "op norm\n",
    "- mean:1.25215\n",
    "- std :0.22176\n",
    "\n",
    "# SP norm による射影\n"
   ]
  },
  {
   "cell_type": "code",
   "execution_count": 14,
   "metadata": {},
   "outputs": [
    {
     "name": "stdout",
     "output_type": "stream",
     "text": [
      "mean:0.18835\n",
      "std :0.05253\n",
      "mean:1.47747\n",
      "std :0.05885\n"
     ]
    },
    {
     "data": {
      "image/png": "[encoded data removed]",
      "text/plain": [
       "<Figure size 432x288 with 1 Axes>"
      ]
     },
     "metadata": {
      "needs_background": "light"
     },
     "output_type": "display_data"
    },
    {
     "data": {
      "image/png": "[encoded data removed]",
      "text/plain": [
       "<Figure size 576x432 with 1 Axes>"
      ]
     },
     "metadata": {
      "needs_background": "light"
     },
     "output_type": "display_data"
    }
   ],
   "source": [
    "#-gm p = 10\n",
    "sum = []\n",
    "for i in range(exper_iter):\n",
    "    mu = np.array(res_mu[i])\n",
    "    for j in range(optim_iter):\n",
    "        l2_norm = np.linalg.norm(mu[j], ord=2)\n",
    "        plt.scatter(j, l2_norm, color = \"blue\")\n",
    "    sum.append(l2_norm)\n",
    "\n",
    "print(\"mean:%.5f\"%(np.mean(sum)))\n",
    "print(\"std :%.5f\"%(np.std(sum)))\n",
    "sum = []\n",
    "plt.figure(figsize=(8, 6))\n",
    "for i in range(exper_iter):\n",
    "    cov = np.array(res_cov[i])\n",
    "    colorlist = [\"r\", \"g\", \"b\", \"c\", \"m\", \"y\", \"k\", \"#984ea3\",'#e41a1c', '#377eb8']\n",
    "    for j in range(optim_iter):\n",
    "        op_norm = np.abs(calc_op_norm(cov[j] -par_cov))\n",
    "        plt.scatter(j, op_norm, color = \"blue\")\n",
    "    sum.append(op_norm)\n",
    "print(\"mean:%.5f\"%(np.mean(sum)))\n",
    "print(\"std :%.5f\"%(np.std(sum)))"
   ]
  }
 ],
 "metadata": {
  "kernelspec": {
   "display_name": "Python 3.6.9 ('robust-gan': venv)",
   "language": "python",
   "name": "python3"
  },
  "language_info": {
   "codemirror_mode": {
    "name": "ipython",
    "version": 3
   },
   "file_extension": ".py",
   "mimetype": "text/x-python",
   "name": "python",
   "nbconvert_exporter": "python",
   "pygments_lexer": "ipython3",
   "version": "3.6.9"
  },
  "orig_nbformat": 4,
  "vscode": {
   "interpreter": {
    "hash": "25b610a314c15d57d8d44cb9cb18c6b8a5db1348d1826795060d7377d2e8687d"
   }
  }
 },
 "nbformat": 4,
 "nbformat_minor": 2
}
